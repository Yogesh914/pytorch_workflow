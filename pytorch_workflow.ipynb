{
  "cells": [
    {
      "cell_type": "markdown",
      "metadata": {
        "id": "view-in-github",
        "colab_type": "text"
      },
      "source": [
        "<a href=\"https://colab.research.google.com/github/Yogesh914/pytorch_workflow/blob/main/pytorch_workflow.ipynb\" target=\"_parent\"><img src=\"https://colab.research.google.com/assets/colab-badge.svg\" alt=\"Open In Colab\"/></a>"
      ]
    },
    {
      "cell_type": "markdown",
      "id": "ad1e7d9c79382ac5",
      "metadata": {
        "collapsed": false,
        "id": "ad1e7d9c79382ac5"
      },
      "source": [
        "# PyTorch Workflow\n",
        "\n",
        "**Workflow:**\n",
        "1. Data (load and clean data)\n",
        "2. Build model\n",
        "3. Fit model to the data (training)\n",
        "4. Evaluate model\n",
        "5. Save and reload model"
      ]
    },
    {
      "cell_type": "code",
      "execution_count": null,
      "id": "96090294334c99e4",
      "metadata": {
        "ExecuteTime": {
          "end_time": "2023-08-06T13:54:10.275814Z",
          "start_time": "2023-08-06T13:54:10.257785Z"
        },
        "colab": {
          "base_uri": "https://localhost:8080/",
          "height": 35
        },
        "id": "96090294334c99e4",
        "outputId": "dbbb7e4d-d5f9-4891-b007-b8bb34097c5f"
      },
      "outputs": [
        {
          "output_type": "execute_result",
          "data": {
            "text/plain": [
              "'2.1.0+cu121'"
            ],
            "application/vnd.google.colaboratory.intrinsic+json": {
              "type": "string"
            }
          },
          "metadata": {},
          "execution_count": 1
        }
      ],
      "source": [
        "import matplotlib.pyplot as plt\n",
        "import numpy as np\n",
        "import torch\n",
        "from torch import nn\n",
        "from pathlib import Path\n",
        "\n",
        "torch.__version__"
      ]
    },
    {
      "cell_type": "code",
      "execution_count": null,
      "id": "cb79f9a07bbdc112",
      "metadata": {
        "ExecuteTime": {
          "end_time": "2023-08-06T13:54:03.090033Z",
          "start_time": "2023-08-06T13:54:03.081116Z"
        },
        "colab": {
          "base_uri": "https://localhost:8080/",
          "height": 35
        },
        "id": "cb79f9a07bbdc112",
        "outputId": "6a83c24c-ab0f-4920-ea40-23769816c951"
      },
      "outputs": [
        {
          "output_type": "execute_result",
          "data": {
            "text/plain": [
              "'cpu'"
            ],
            "application/vnd.google.colaboratory.intrinsic+json": {
              "type": "string"
            }
          },
          "metadata": {},
          "execution_count": 2
        }
      ],
      "source": [
        "device = \"cuda\" if torch.cuda.is_available() else \"cpu\"\n",
        "device"
      ]
    },
    {
      "cell_type": "markdown",
      "id": "3434f8a9ebc86fff",
      "metadata": {
        "collapsed": false,
        "id": "3434f8a9ebc86fff"
      },
      "source": [
        "## 1. Data"
      ]
    },
    {
      "cell_type": "code",
      "execution_count": null,
      "id": "192f8e3cb8eb0e64",
      "metadata": {
        "is_executing": true,
        "colab": {
          "base_uri": "https://localhost:8080/"
        },
        "id": "192f8e3cb8eb0e64",
        "outputId": "f8b11ead-7c3f-4ed3-ff0d-2dccdb85b9d9"
      },
      "outputs": [
        {
          "output_type": "execute_result",
          "data": {
            "text/plain": [
              "(tensor([[0.0000],\n",
              "         [0.0200],\n",
              "         [0.0400],\n",
              "         [0.0600],\n",
              "         [0.0800],\n",
              "         [0.1000],\n",
              "         [0.1200],\n",
              "         [0.1400],\n",
              "         [0.1600],\n",
              "         [0.1800]]),\n",
              " tensor([[0.3000],\n",
              "         [0.3140],\n",
              "         [0.3280],\n",
              "         [0.3420],\n",
              "         [0.3560],\n",
              "         [0.3700],\n",
              "         [0.3840],\n",
              "         [0.3980],\n",
              "         [0.4120],\n",
              "         [0.4260]]))"
            ]
          },
          "metadata": {},
          "execution_count": 3
        }
      ],
      "source": [
        "# creating known parameters and sample linear regression problem\n",
        "\n",
        "weight = 0.7\n",
        "bias = 0.3\n",
        "\n",
        "start = 0\n",
        "end = 1\n",
        "\n",
        "step = 0.02\n",
        "\n",
        "X = torch.arange(start, end, step).unsqueeze(dim=1)\n",
        "y = weight * X + bias\n",
        "\n",
        "X[:10], y[:10]"
      ]
    },
    {
      "cell_type": "markdown",
      "id": "44e4a6e8950898da",
      "metadata": {
        "collapsed": false,
        "id": "44e4a6e8950898da"
      },
      "source": [
        "### Splitting Data"
      ]
    },
    {
      "cell_type": "code",
      "execution_count": null,
      "id": "30c6dbbb310cc9cb",
      "metadata": {
        "ExecuteTime": {
          "start_time": "2023-08-06T13:48:13.077340Z"
        },
        "is_executing": true,
        "colab": {
          "base_uri": "https://localhost:8080/"
        },
        "id": "30c6dbbb310cc9cb",
        "outputId": "3396d474-106a-4a8e-e50d-3fa241119753"
      },
      "outputs": [
        {
          "output_type": "execute_result",
          "data": {
            "text/plain": [
              "(50, 50)"
            ]
          },
          "metadata": {},
          "execution_count": 4
        }
      ],
      "source": [
        "len(X), len(y)"
      ]
    },
    {
      "cell_type": "code",
      "execution_count": null,
      "id": "ef230f0e79141b",
      "metadata": {
        "ExecuteTime": {
          "start_time": "2023-08-06T13:48:13.078506Z"
        },
        "is_executing": true,
        "colab": {
          "base_uri": "https://localhost:8080/"
        },
        "id": "ef230f0e79141b",
        "outputId": "56dfd921-0136-41ae-9800-f6598f3c13ef"
      },
      "outputs": [
        {
          "output_type": "execute_result",
          "data": {
            "text/plain": [
              "(10, 10, 40, 40)"
            ]
          },
          "metadata": {},
          "execution_count": 5
        }
      ],
      "source": [
        "train_split = int(0.8*len(X))\n",
        "X_train, y_train = X[:train_split], y[:train_split]\n",
        "X_test, y_test = X[train_split:], y[train_split:]\n",
        "\n",
        "len(X_test), len(y_test), len(X_train), len(y_train)"
      ]
    },
    {
      "cell_type": "code",
      "execution_count": null,
      "id": "25977593103c5280",
      "metadata": {
        "ExecuteTime": {
          "start_time": "2023-08-06T13:48:13.079799Z"
        },
        "is_executing": true,
        "id": "25977593103c5280"
      },
      "outputs": [],
      "source": [
        "def plot_predictions(training_data= X_train, train_labels = y_train, test_data=X_test, test_labels=y_test, predictions=None):\n",
        "    \"\"\"\n",
        "    Plots Predictions\n",
        "    \"\"\"\n",
        "\n",
        "    plt.figure(figsize=(10,7))\n",
        "\n",
        "    plt.scatter(training_data, train_labels, c=\"b\", s=10, label=\"Training Data\")\n",
        "\n",
        "    plt.scatter(test_data, test_labels, c=\"g\", s=10, label=\"Testing Data\")\n",
        "\n",
        "    if predictions is not None:\n",
        "        plt.scatter(test_data, predictions, c=\"r\", s=10, label=\"Predictions\")\n",
        "\n",
        "    plt.legend(prop={\"size\": 14});"
      ]
    },
    {
      "cell_type": "code",
      "execution_count": null,
      "id": "b9283b7e016cbfda",
      "metadata": {
        "ExecuteTime": {
          "start_time": "2023-08-06T13:48:13.080438Z"
        },
        "is_executing": true,
        "colab": {
          "base_uri": "https://localhost:8080/",
          "height": 599
        },
        "id": "b9283b7e016cbfda",
        "outputId": "58f2c819-4ae6-4847-fa07-e856188a6e8c"
      },
      "outputs": [
        {
          "output_type": "display_data",
          "data": {
            "text/plain": [
              "<Figure size 1000x700 with 1 Axes>"
            ],
            "image/png": "[encoded data removed]"
          },
          "metadata": {}
        }
      ],
      "source": [
        "plot_predictions()"
      ]
    },
    {
      "cell_type": "markdown",
      "id": "3a40849dfc2cb0db",
      "metadata": {
        "collapsed": false,
        "id": "3a40849dfc2cb0db"
      },
      "source": [
        "## 2. Build Model\n",
        "\n",
        "What this model does:\n",
        "* Starts with random values for weight and bias\n",
        "* Looks at the training data to adjust the random values to better represent or get closer to the ideal weight and bias values\n",
        "\n",
        "How does the model do this?\n",
        "1. Gradient Descent\n",
        "2. Backpropagation"
      ]
    },
    {
      "cell_type": "code",
      "execution_count": null,
      "id": "798493c1e239f87c",
      "metadata": {
        "ExecuteTime": {
          "start_time": "2023-08-06T13:48:13.081607Z"
        },
        "is_executing": true,
        "id": "798493c1e239f87c"
      },
      "outputs": [],
      "source": [
        "class LinearRegressionModel(nn.Module): # <- almost everything in pytorch inherits from nn.Module\n",
        "    def __init__(self):\n",
        "        super().__init__()\n",
        "\n",
        "        # Initialize model parameters/layers\n",
        "        self.weights = nn.Parameter(torch.randn(1, requires_grad=True, dtype=torch.float32))\n",
        "        #requires grad -> gradient descent\n",
        "\n",
        "        self.bias = nn.Parameter(torch.randn(1, requires_grad=True, dtype=torch.float32))\n",
        "\n",
        "        # forward method defines the computation of the model\n",
        "    def forward(self, x: torch.Tensor) -> torch.Tensor:\n",
        "        return self.weights * x + self.bias"
      ]
    },
    {
      "cell_type": "markdown",
      "id": "e39a91df111cc04e",
      "metadata": {
        "collapsed": false,
        "id": "e39a91df111cc04e"
      },
      "source": [
        "### Model Building Essentials\n",
        "\n",
        "* `torch.nn` - contains all the building locks for computational graphs\n",
        "* `torch.nn.Parameter` - what parameters should our model try and learn, often a PyTorch layer from torch.nn will set these for us\n",
        "* `torch.nn.Module` - the base class for all neural network modules, when used as a subclass you should always overwrite forward() method\n",
        "* `torch.optim` - where the optimizers in pytorch live, they help with gradient descent\n",
        "* `def forward()` - all nn.Module subclass require to overwrite this method, which defines the computation of the model"
      ]
    },
    {
      "cell_type": "code",
      "execution_count": null,
      "id": "54f9ef0dac20fdaf",
      "metadata": {
        "ExecuteTime": {
          "start_time": "2023-08-06T13:48:13.082105Z"
        },
        "colab": {
          "base_uri": "https://localhost:8080/"
        },
        "id": "54f9ef0dac20fdaf",
        "outputId": "b38d2ef2-fd27-4052-ca18-2f6a6664642b"
      },
      "outputs": [
        {
          "output_type": "execute_result",
          "data": {
            "text/plain": [
              "[Parameter containing:\n",
              " tensor([0.3367], requires_grad=True),\n",
              " Parameter containing:\n",
              " tensor([0.1288], requires_grad=True)]"
            ]
          },
          "metadata": {},
          "execution_count": 9
        }
      ],
      "source": [
        "# Create random seed\n",
        "torch.manual_seed(42)\n",
        "\n",
        "model_0 = LinearRegressionModel()\n",
        "\n",
        "list(model_0.parameters())"
      ]
    },
    {
      "cell_type": "code",
      "execution_count": null,
      "id": "b98c84d448bc9182",
      "metadata": {
        "ExecuteTime": {
          "end_time": "2023-08-06T13:48:13.085260Z",
          "start_time": "2023-08-06T13:48:13.083086Z"
        },
        "colab": {
          "base_uri": "https://localhost:8080/"
        },
        "id": "b98c84d448bc9182",
        "outputId": "8f097f61-8829-40f3-9ea9-baa2b9a42510"
      },
      "outputs": [
        {
          "output_type": "execute_result",
          "data": {
            "text/plain": [
              "OrderedDict([('weights', tensor([0.3367])), ('bias', tensor([0.1288]))])"
            ]
          },
          "metadata": {},
          "execution_count": 10
        }
      ],
      "source": [
        "model_0.state_dict()"
      ]
    },
    {
      "cell_type": "markdown",
      "id": "752e5bcdd0cc837e",
      "metadata": {
        "collapsed": false,
        "id": "752e5bcdd0cc837e"
      },
      "source": [
        "### Making Predictions"
      ]
    },
    {
      "cell_type": "code",
      "execution_count": null,
      "id": "af64636404d4ea2d",
      "metadata": {
        "ExecuteTime": {
          "end_time": "2023-08-06T13:48:13.089422Z",
          "start_time": "2023-08-06T13:48:13.088388Z"
        },
        "colab": {
          "base_uri": "https://localhost:8080/"
        },
        "id": "af64636404d4ea2d",
        "outputId": "4d523542-f4be-4f33-84d1-8a1b4052fd7b"
      },
      "outputs": [
        {
          "output_type": "execute_result",
          "data": {
            "text/plain": [
              "tensor([[0.3982],\n",
              "        [0.4049],\n",
              "        [0.4116],\n",
              "        [0.4184],\n",
              "        [0.4251],\n",
              "        [0.4318],\n",
              "        [0.4386],\n",
              "        [0.4453],\n",
              "        [0.4520],\n",
              "        [0.4588]])"
            ]
          },
          "metadata": {},
          "execution_count": 11
        }
      ],
      "source": [
        "with torch.inference_mode():\n",
        "    y_preds = model_0(X_test)\n",
        "\n",
        "y_preds"
      ]
    },
    {
      "cell_type": "code",
      "execution_count": null,
      "id": "f636880bb33d4452",
      "metadata": {
        "ExecuteTime": {
          "end_time": "2023-08-06T13:48:13.179034Z",
          "start_time": "2023-08-06T13:48:13.091063Z"
        },
        "colab": {
          "base_uri": "https://localhost:8080/",
          "height": 599
        },
        "id": "f636880bb33d4452",
        "outputId": "616dbc96-6e24-437b-a38f-47ccfc42597b"
      },
      "outputs": [
        {
          "output_type": "display_data",
          "data": {
            "text/plain": [
              "<Figure size 1000x700 with 1 Axes>"
            ],
            "image/png": "[encoded data removed]"
          },
          "metadata": {}
        }
      ],
      "source": [
        "plot_predictions(predictions=y_preds)"
      ]
    },
    {
      "cell_type": "markdown",
      "id": "765f9c8aae750eaa",
      "metadata": {
        "collapsed": false,
        "id": "765f9c8aae750eaa"
      },
      "source": [
        "## 3. Train Model"
      ]
    },
    {
      "cell_type": "code",
      "execution_count": null,
      "id": "acb4e71f4a7c8db5",
      "metadata": {
        "ExecuteTime": {
          "end_time": "2023-08-06T13:48:13.179714Z",
          "start_time": "2023-08-06T13:48:13.178191Z"
        },
        "id": "acb4e71f4a7c8db5"
      },
      "outputs": [],
      "source": [
        "# loss function\n",
        "loss_fn = nn.L1Loss()\n",
        "\n",
        "# optimizer (stochastic gradient descent)\n",
        "optimizer = torch.optim.SGD(params=model_0.parameters(),\n",
        "                            lr=0.01)"
      ]
    },
    {
      "cell_type": "markdown",
      "id": "b95cf54297a5e466",
      "metadata": {
        "collapsed": false,
        "id": "b95cf54297a5e466"
      },
      "source": [
        "### Training Loop + Testing Loop\n",
        "\n",
        "0. Loop through data\n",
        "1. Forward pass/propagation (involves data moving through the `forward()` function or data moving through layers from input to output layer) to make predictions on data\n",
        "2. Calculate the loss (compare forward pass predictions to ground truth labels)\n",
        "3. Optimizer zero grad\n",
        "4. Loss backward - move backwards through the network to calculate the gradients of each of the parameters of our model with respect to the loss (backpropagation)\n",
        "5. Optimizer step - use the optimizer to adjust our model's parameters to try and improve the loss (gradient descent)"
      ]
    },
    {
      "cell_type": "code",
      "execution_count": null,
      "id": "7e8b86a197bb50f4",
      "metadata": {
        "ExecuteTime": {
          "end_time": "2023-08-06T13:48:13.205539Z",
          "start_time": "2023-08-06T13:48:13.179792Z"
        },
        "colab": {
          "base_uri": "https://localhost:8080/"
        },
        "id": "7e8b86a197bb50f4",
        "outputId": "3bf6b374-707d-4308-810d-f6aa37ea354d"
      },
      "outputs": [
        {
          "output_type": "stream",
          "name": "stdout",
          "text": [
            "Epoch: 0 | Loss: 0.31288138031959534 | Test Loss: 0.48106518387794495\n",
            "Epoch: 1 | Loss: 0.3013603389263153 | Test Loss: 0.4675942063331604\n",
            "Epoch: 2 | Loss: 0.28983935713768005 | Test Loss: 0.4541231691837311\n",
            "Epoch: 3 | Loss: 0.2783183455467224 | Test Loss: 0.44065219163894653\n",
            "Epoch: 4 | Loss: 0.26679736375808716 | Test Loss: 0.4271811842918396\n",
            "Epoch: 5 | Loss: 0.2552763521671295 | Test Loss: 0.41371020674705505\n",
            "Epoch: 6 | Loss: 0.24375534057617188 | Test Loss: 0.40023916959762573\n",
            "Epoch: 7 | Loss: 0.23223432898521423 | Test Loss: 0.3867681920528412\n",
            "Epoch: 8 | Loss: 0.22071333229541779 | Test Loss: 0.37329721450805664\n",
            "Epoch: 9 | Loss: 0.20919232070446014 | Test Loss: 0.3598262071609497\n",
            "Epoch: 10 | Loss: 0.1976713240146637 | Test Loss: 0.3463551998138428\n",
            "Epoch: 11 | Loss: 0.18615034222602844 | Test Loss: 0.3328842222690582\n",
            "Epoch: 12 | Loss: 0.1746293306350708 | Test Loss: 0.3194132149219513\n",
            "Epoch: 13 | Loss: 0.16310831904411316 | Test Loss: 0.30594223737716675\n",
            "Epoch: 14 | Loss: 0.1515873372554779 | Test Loss: 0.2924712300300598\n",
            "Epoch: 15 | Loss: 0.14006635546684265 | Test Loss: 0.27900025248527527\n",
            "Epoch: 16 | Loss: 0.1285453587770462 | Test Loss: 0.2655292749404907\n",
            "Epoch: 17 | Loss: 0.11702437698841095 | Test Loss: 0.2520582973957062\n",
            "Epoch: 18 | Loss: 0.1060912236571312 | Test Loss: 0.2395961582660675\n",
            "Epoch: 19 | Loss: 0.09681284427642822 | Test Loss: 0.22817862033843994\n",
            "Epoch: 20 | Loss: 0.08908725529909134 | Test Loss: 0.21729660034179688\n",
            "Epoch: 21 | Loss: 0.08227583020925522 | Test Loss: 0.2069590985774994\n",
            "Epoch: 22 | Loss: 0.07638873159885406 | Test Loss: 0.19773726165294647\n",
            "Epoch: 23 | Loss: 0.07160007208585739 | Test Loss: 0.1890866756439209\n",
            "Epoch: 24 | Loss: 0.06747635453939438 | Test Loss: 0.18101617693901062\n",
            "Epoch: 25 | Loss: 0.06395438313484192 | Test Loss: 0.17353470623493195\n",
            "Epoch: 26 | Loss: 0.06097004935145378 | Test Loss: 0.16665108501911163\n",
            "Epoch: 27 | Loss: 0.05845819041132927 | Test Loss: 0.16037428379058838\n",
            "Epoch: 28 | Loss: 0.05635259300470352 | Test Loss: 0.15471318364143372\n",
            "Epoch: 29 | Loss: 0.0545857772231102 | Test Loss: 0.14967669546604156\n",
            "Epoch: 30 | Loss: 0.053148526698350906 | Test Loss: 0.14464017748832703\n",
            "Epoch: 31 | Loss: 0.05181945487856865 | Test Loss: 0.14023718237876892\n",
            "Epoch: 32 | Loss: 0.05069301277399063 | Test Loss: 0.13647659122943878\n",
            "Epoch: 33 | Loss: 0.0498228520154953 | Test Loss: 0.13271598517894745\n",
            "Epoch: 34 | Loss: 0.04895269125699997 | Test Loss: 0.12895536422729492\n",
            "Epoch: 35 | Loss: 0.04819351062178612 | Test Loss: 0.12584610283374786\n",
            "Epoch: 36 | Loss: 0.047531817108392715 | Test Loss: 0.12273679673671722\n",
            "Epoch: 37 | Loss: 0.04692792519927025 | Test Loss: 0.1202877014875412\n",
            "Epoch: 38 | Loss: 0.04642331600189209 | Test Loss: 0.11783860623836517\n",
            "Epoch: 39 | Loss: 0.04591871052980423 | Test Loss: 0.11538954079151154\n",
            "Epoch: 40 | Loss: 0.04543796554207802 | Test Loss: 0.11360953003168106\n",
            "Epoch: 41 | Loss: 0.04503796249628067 | Test Loss: 0.11182951927185059\n",
            "Epoch: 42 | Loss: 0.04463795945048332 | Test Loss: 0.1100495308637619\n",
            "Epoch: 43 | Loss: 0.04423796385526657 | Test Loss: 0.10826952755451202\n",
            "Epoch: 44 | Loss: 0.04383796453475952 | Test Loss: 0.10648951679468155\n",
            "Epoch: 45 | Loss: 0.04343796148896217 | Test Loss: 0.10470950603485107\n",
            "Epoch: 46 | Loss: 0.043074630200862885 | Test Loss: 0.10360751301050186\n",
            "Epoch: 47 | Loss: 0.04272563382983208 | Test Loss: 0.10250549018383026\n",
            "Epoch: 48 | Loss: 0.04237663000822067 | Test Loss: 0.10140349715948105\n",
            "Epoch: 49 | Loss: 0.04202762991189957 | Test Loss: 0.10030148178339005\n",
            "Epoch: 50 | Loss: 0.04167863354086876 | Test Loss: 0.09919948130846024\n",
            "Epoch: 51 | Loss: 0.04132963344454765 | Test Loss: 0.09809747338294983\n",
            "Epoch: 52 | Loss: 0.04098063334822655 | Test Loss: 0.09699545800685883\n",
            "Epoch: 53 | Loss: 0.04063162952661514 | Test Loss: 0.09589345753192902\n",
            "Epoch: 54 | Loss: 0.040282636880874634 | Test Loss: 0.0947914719581604\n",
            "Epoch: 55 | Loss: 0.039933640509843826 | Test Loss: 0.09368947893381119\n",
            "Epoch: 56 | Loss: 0.03958464413881302 | Test Loss: 0.09258746355772018\n",
            "Epoch: 57 | Loss: 0.03923564404249191 | Test Loss: 0.09148545563220978\n",
            "Epoch: 58 | Loss: 0.03888664394617081 | Test Loss: 0.09038344770669937\n",
            "Epoch: 59 | Loss: 0.0385376438498497 | Test Loss: 0.08928143978118896\n",
            "Epoch: 60 | Loss: 0.03818932920694351 | Test Loss: 0.08886633068323135\n",
            "Epoch: 61 | Loss: 0.03785243630409241 | Test Loss: 0.08776430785655975\n",
            "Epoch: 62 | Loss: 0.0375034399330616 | Test Loss: 0.08666229248046875\n",
            "Epoch: 63 | Loss: 0.037164121866226196 | Test Loss: 0.08624717593193054\n",
            "Epoch: 64 | Loss: 0.03681822493672371 | Test Loss: 0.08514519035816193\n",
            "Epoch: 65 | Loss: 0.03647511452436447 | Test Loss: 0.08473004400730133\n",
            "Epoch: 66 | Loss: 0.03613303601741791 | Test Loss: 0.08362803608179092\n",
            "Epoch: 67 | Loss: 0.03578609973192215 | Test Loss: 0.08321291208267212\n",
            "Epoch: 68 | Loss: 0.03544783592224121 | Test Loss: 0.08211090415716171\n",
            "Epoch: 69 | Loss: 0.035098835825920105 | Test Loss: 0.0810088962316513\n",
            "Epoch: 70 | Loss: 0.03476089984178543 | Test Loss: 0.0805937647819519\n",
            "Epoch: 71 | Loss: 0.03441363573074341 | Test Loss: 0.0794917643070221\n",
            "Epoch: 72 | Loss: 0.03407188132405281 | Test Loss: 0.07907666265964508\n",
            "Epoch: 73 | Loss: 0.03372843936085701 | Test Loss: 0.07797462493181229\n",
            "Epoch: 74 | Loss: 0.03338287025690079 | Test Loss: 0.07755951583385468\n",
            "Epoch: 75 | Loss: 0.033043231815099716 | Test Loss: 0.07645749300718307\n",
            "Epoch: 76 | Loss: 0.03269423171877861 | Test Loss: 0.07535548508167267\n",
            "Epoch: 77 | Loss: 0.032357655465602875 | Test Loss: 0.07494036853313446\n",
            "Epoch: 78 | Loss: 0.03200903534889221 | Test Loss: 0.07383836805820465\n",
            "Epoch: 79 | Loss: 0.03166864812374115 | Test Loss: 0.07342323660850525\n",
            "Epoch: 80 | Loss: 0.03132382780313492 | Test Loss: 0.07232122868299484\n",
            "Epoch: 81 | Loss: 0.030979642644524574 | Test Loss: 0.07190609723329544\n",
            "Epoch: 82 | Loss: 0.030638623982667923 | Test Loss: 0.07080408930778503\n",
            "Epoch: 83 | Loss: 0.0302906334400177 | Test Loss: 0.07038896530866623\n",
            "Epoch: 84 | Loss: 0.029953425750136375 | Test Loss: 0.06928696483373642\n",
            "Epoch: 85 | Loss: 0.02960442565381527 | Test Loss: 0.06818496435880661\n",
            "Epoch: 86 | Loss: 0.029265418648719788 | Test Loss: 0.0677698403596878\n",
            "Epoch: 87 | Loss: 0.028919223695993423 | Test Loss: 0.0666678324341774\n",
            "Epoch: 88 | Loss: 0.028576409444212914 | Test Loss: 0.066252700984478\n",
            "Epoch: 89 | Loss: 0.028234025463461876 | Test Loss: 0.06515069305896759\n",
            "Epoch: 90 | Loss: 0.02788739837706089 | Test Loss: 0.06473556160926819\n",
            "Epoch: 91 | Loss: 0.02754882536828518 | Test Loss: 0.06363357603549957\n",
            "Epoch: 92 | Loss: 0.027199819684028625 | Test Loss: 0.06253156810998917\n",
            "Epoch: 93 | Loss: 0.026862185448408127 | Test Loss: 0.062116436660289764\n",
            "Epoch: 94 | Loss: 0.02651461586356163 | Test Loss: 0.061014432460069656\n",
            "Epoch: 95 | Loss: 0.026173178106546402 | Test Loss: 0.06059930846095085\n",
            "Epoch: 96 | Loss: 0.025829419493675232 | Test Loss: 0.05949730426073074\n",
            "Epoch: 97 | Loss: 0.02548416517674923 | Test Loss: 0.05908216908574104\n",
            "Epoch: 98 | Loss: 0.025144213810563087 | Test Loss: 0.057980168610811234\n",
            "Epoch: 99 | Loss: 0.02479521557688713 | Test Loss: 0.05687814950942993\n",
            "Epoch: 100 | Loss: 0.024458957836031914 | Test Loss: 0.05646304413676262\n",
            "Epoch: 101 | Loss: 0.024110013619065285 | Test Loss: 0.05536102131009102\n",
            "Epoch: 102 | Loss: 0.02376994863152504 | Test Loss: 0.05494590476155281\n",
            "Epoch: 103 | Loss: 0.02342480979859829 | Test Loss: 0.05384388566017151\n",
            "Epoch: 104 | Loss: 0.023080935701727867 | Test Loss: 0.0534287691116333\n",
            "Epoch: 105 | Loss: 0.022739607840776443 | Test Loss: 0.052326757460832596\n",
            "Epoch: 106 | Loss: 0.022391926497220993 | Test Loss: 0.05191164091229439\n",
            "Epoch: 107 | Loss: 0.022054409608244896 | Test Loss: 0.05080962926149368\n",
            "Epoch: 108 | Loss: 0.02170540764927864 | Test Loss: 0.049707621335983276\n",
            "Epoch: 109 | Loss: 0.021366719156503677 | Test Loss: 0.04929249361157417\n",
            "Epoch: 110 | Loss: 0.021020207554101944 | Test Loss: 0.04819049686193466\n",
            "Epoch: 111 | Loss: 0.020677709951996803 | Test Loss: 0.04777535796165466\n",
            "Epoch: 112 | Loss: 0.02033500373363495 | Test Loss: 0.046673357486724854\n",
            "Epoch: 113 | Loss: 0.01998869702219963 | Test Loss: 0.04625822976231575\n",
            "Epoch: 114 | Loss: 0.019649803638458252 | Test Loss: 0.045156221836805344\n",
            "Epoch: 115 | Loss: 0.019300809130072594 | Test Loss: 0.04405422881245613\n",
            "Epoch: 116 | Loss: 0.018963487818837166 | Test Loss: 0.04363910108804703\n",
            "Epoch: 117 | Loss: 0.01861560344696045 | Test Loss: 0.04253707453608513\n",
            "Epoch: 118 | Loss: 0.018274478614330292 | Test Loss: 0.042121969163417816\n",
            "Epoch: 119 | Loss: 0.017930403351783752 | Test Loss: 0.04101995751261711\n",
            "Epoch: 120 | Loss: 0.01758546568453312 | Test Loss: 0.04060482233762741\n",
            "Epoch: 121 | Loss: 0.017245199531316757 | Test Loss: 0.0395028181374073\n",
            "Epoch: 122 | Loss: 0.016896454617381096 | Test Loss: 0.0390876941382885\n",
            "Epoch: 123 | Loss: 0.01656000316143036 | Test Loss: 0.037985701113939285\n",
            "Epoch: 124 | Loss: 0.016210997477173805 | Test Loss: 0.03688368946313858\n",
            "Epoch: 125 | Loss: 0.01587124727666378 | Test Loss: 0.036468543112277985\n",
            "Epoch: 126 | Loss: 0.015525798313319683 | Test Loss: 0.035366542637348175\n",
            "Epoch: 127 | Loss: 0.015182236209511757 | Test Loss: 0.034951429814100266\n",
            "Epoch: 128 | Loss: 0.014840595424175262 | Test Loss: 0.03384942561388016\n",
            "Epoch: 129 | Loss: 0.01449323259294033 | Test Loss: 0.03343429043889046\n",
            "Epoch: 130 | Loss: 0.014155393466353416 | Test Loss: 0.03233227878808975\n",
            "Epoch: 131 | Loss: 0.013806397095322609 | Test Loss: 0.031230276450514793\n",
            "Epoch: 132 | Loss: 0.013468016870319843 | Test Loss: 0.030815154314041138\n",
            "Epoch: 133 | Loss: 0.013121193274855614 | Test Loss: 0.02971314825117588\n",
            "Epoch: 134 | Loss: 0.01277900766581297 | Test Loss: 0.02929801307618618\n",
            "Epoch: 135 | Loss: 0.012435992248356342 | Test Loss: 0.028196018189191818\n",
            "Epoch: 136 | Loss: 0.01208999752998352 | Test Loss: 0.027780896052718163\n",
            "Epoch: 137 | Loss: 0.011750795878469944 | Test Loss: 0.026678884401917458\n",
            "Epoch: 138 | Loss: 0.011401787400245667 | Test Loss: 0.025576870888471603\n",
            "Epoch: 139 | Loss: 0.011064787395298481 | Test Loss: 0.025161748751997948\n",
            "Epoch: 140 | Loss: 0.010716589167714119 | Test Loss: 0.024059748277068138\n",
            "Epoch: 141 | Loss: 0.010375778190791607 | Test Loss: 0.023644620552659035\n",
            "Epoch: 142 | Loss: 0.010031387209892273 | Test Loss: 0.022542614489793777\n",
            "Epoch: 143 | Loss: 0.009686763398349285 | Test Loss: 0.022127490490674973\n",
            "Epoch: 144 | Loss: 0.009346187114715576 | Test Loss: 0.021025484427809715\n",
            "Epoch: 145 | Loss: 0.008997755125164986 | Test Loss: 0.020610356703400612\n",
            "Epoch: 146 | Loss: 0.008660981431603432 | Test Loss: 0.019508343189954758\n",
            "Epoch: 147 | Loss: 0.008311985060572624 | Test Loss: 0.018406350165605545\n",
            "Epoch: 148 | Loss: 0.007972544990479946 | Test Loss: 0.017991220578551292\n",
            "Epoch: 149 | Loss: 0.007626785431057215 | Test Loss: 0.016889220103621483\n",
            "Epoch: 150 | Loss: 0.0072835334576666355 | Test Loss: 0.016474086791276932\n",
            "Epoch: 151 | Loss: 0.006941580679267645 | Test Loss: 0.0153720797970891\n",
            "Epoch: 152 | Loss: 0.006594526115804911 | Test Loss: 0.01495695672929287\n",
            "Epoch: 153 | Loss: 0.006256377790123224 | Test Loss: 0.013854950666427612\n",
            "Epoch: 154 | Loss: 0.005907376762479544 | Test Loss: 0.012752944603562355\n",
            "Epoch: 155 | Loss: 0.005569315515458584 | Test Loss: 0.012337815947830677\n",
            "Epoch: 156 | Loss: 0.005222178064286709 | Test Loss: 0.011235815472900867\n",
            "Epoch: 157 | Loss: 0.004880306776612997 | Test Loss: 0.010820692405104637\n",
            "Epoch: 158 | Loss: 0.004536976106464863 | Test Loss: 0.009718680754303932\n",
            "Epoch: 159 | Loss: 0.00419129803776741 | Test Loss: 0.009303552098572254\n",
            "Epoch: 160 | Loss: 0.0038517764769494534 | Test Loss: 0.008201557211577892\n",
            "Epoch: 161 | Loss: 0.0035027749836444855 | Test Loss: 0.007099539041519165\n",
            "Epoch: 162 | Loss: 0.0031660839449614286 | Test Loss: 0.006684416439384222\n",
            "Epoch: 163 | Loss: 0.002817571861669421 | Test Loss: 0.0055824099108576775\n",
            "Epoch: 164 | Loss: 0.0024770735763013363 | Test Loss: 0.005167287774384022\n",
            "Epoch: 165 | Loss: 0.0021323717664927244 | Test Loss: 0.004065275192260742\n",
            "Epoch: 166 | Loss: 0.0017880648374557495 | Test Loss: 0.003650152590125799\n",
            "Epoch: 167 | Loss: 0.0014518328243866563 | Test Loss: 0.0018701612716540694\n",
            "Epoch: 168 | Loss: 0.0011887758737429976 | Test Loss: 0.005023092031478882\n",
            "Epoch: 169 | Loss: 0.0025885067880153656 | Test Loss: 0.008447891101241112\n",
            "Epoch: 170 | Loss: 0.008932482451200485 | Test Loss: 0.005023092031478882\n",
            "Epoch: 171 | Loss: 0.0025885067880153656 | Test Loss: 0.008447891101241112\n",
            "Epoch: 172 | Loss: 0.008932482451200485 | Test Loss: 0.005023092031478882\n",
            "Epoch: 173 | Loss: 0.0025885067880153656 | Test Loss: 0.008447891101241112\n",
            "Epoch: 174 | Loss: 0.008932482451200485 | Test Loss: 0.005023092031478882\n",
            "Epoch: 175 | Loss: 0.0025885067880153656 | Test Loss: 0.008447891101241112\n",
            "Epoch: 176 | Loss: 0.008932482451200485 | Test Loss: 0.005023092031478882\n",
            "Epoch: 177 | Loss: 0.0025885067880153656 | Test Loss: 0.008447891101241112\n",
            "Epoch: 178 | Loss: 0.008932482451200485 | Test Loss: 0.005023092031478882\n",
            "Epoch: 179 | Loss: 0.0025885067880153656 | Test Loss: 0.008447891101241112\n",
            "Epoch: 180 | Loss: 0.008932482451200485 | Test Loss: 0.005023092031478882\n",
            "Epoch: 181 | Loss: 0.0025885067880153656 | Test Loss: 0.008447891101241112\n",
            "Epoch: 182 | Loss: 0.008932482451200485 | Test Loss: 0.005023092031478882\n",
            "Epoch: 183 | Loss: 0.0025885067880153656 | Test Loss: 0.008447891101241112\n",
            "Epoch: 184 | Loss: 0.008932482451200485 | Test Loss: 0.005023092031478882\n",
            "Epoch: 185 | Loss: 0.0025885067880153656 | Test Loss: 0.008447891101241112\n",
            "Epoch: 186 | Loss: 0.008932482451200485 | Test Loss: 0.005023092031478882\n",
            "Epoch: 187 | Loss: 0.0025885067880153656 | Test Loss: 0.008447891101241112\n",
            "Epoch: 188 | Loss: 0.008932482451200485 | Test Loss: 0.005023092031478882\n",
            "Epoch: 189 | Loss: 0.0025885067880153656 | Test Loss: 0.008447891101241112\n",
            "Epoch: 190 | Loss: 0.008932482451200485 | Test Loss: 0.005023092031478882\n",
            "Epoch: 191 | Loss: 0.0025885067880153656 | Test Loss: 0.008447891101241112\n",
            "Epoch: 192 | Loss: 0.008932482451200485 | Test Loss: 0.005023092031478882\n",
            "Epoch: 193 | Loss: 0.0025885067880153656 | Test Loss: 0.008447891101241112\n",
            "Epoch: 194 | Loss: 0.008932482451200485 | Test Loss: 0.005023092031478882\n",
            "Epoch: 195 | Loss: 0.0025885067880153656 | Test Loss: 0.008447891101241112\n",
            "Epoch: 196 | Loss: 0.008932482451200485 | Test Loss: 0.005023092031478882\n",
            "Epoch: 197 | Loss: 0.0025885067880153656 | Test Loss: 0.008447891101241112\n",
            "Epoch: 198 | Loss: 0.008932482451200485 | Test Loss: 0.005023092031478882\n",
            "Epoch: 199 | Loss: 0.0025885067880153656 | Test Loss: 0.008447891101241112\n"
          ]
        }
      ],
      "source": [
        "torch.manual_seed(42)\n",
        "epochs = 200\n",
        "\n",
        "epoch_count = []\n",
        "loss_values = []\n",
        "test_loss_values = []\n",
        "\n",
        "for epoch in range(epochs):\n",
        "    model_0.train()\n",
        "\n",
        "    y_pred = model_0(X_train)\n",
        "\n",
        "    loss = loss_fn(y_pred, y_train)\n",
        "\n",
        "    optimizer.zero_grad()\n",
        "\n",
        "    loss.backward()\n",
        "\n",
        "    optimizer.step()\n",
        "\n",
        "    ## Testing\n",
        "    model_0.eval() # turns off different settings that are not used for testing/evaluation\n",
        "\n",
        "    with torch.inference_mode(): # turns off gradient tracking and some other things as well\n",
        "        # 1. Do the forward pass\n",
        "        test_pred = model_0(X_test)\n",
        "\n",
        "        # 2. Calculate the loss\n",
        "        test_loss = loss_fn(test_pred, y_test)\n",
        "\n",
        "    epoch_count.append(epoch)\n",
        "    loss_values.append(loss)\n",
        "    test_loss_values.append(test_loss)\n",
        "    print(f\"Epoch: {epoch} | Loss: {loss} | Test Loss: {test_loss}\")\n"
      ]
    },
    {
      "cell_type": "code",
      "execution_count": null,
      "id": "6fba47ac8d9792d8",
      "metadata": {
        "ExecuteTime": {
          "end_time": "2023-08-06T13:48:13.206526Z",
          "start_time": "2023-08-06T13:48:13.203643Z"
        },
        "colab": {
          "base_uri": "https://localhost:8080/"
        },
        "id": "6fba47ac8d9792d8",
        "outputId": "9b9c8651-c2f5-45c3-d4cd-a7c889cca6d1"
      },
      "outputs": [
        {
          "output_type": "execute_result",
          "data": {
            "text/plain": [
              "OrderedDict([('weights', tensor([0.6990])), ('bias', tensor([0.3093]))])"
            ]
          },
          "metadata": {},
          "execution_count": 15
        }
      ],
      "source": [
        "model_0.state_dict()"
      ]
    },
    {
      "cell_type": "code",
      "execution_count": null,
      "id": "e7bb657646ea5225",
      "metadata": {
        "ExecuteTime": {
          "end_time": "2023-08-06T13:48:13.211066Z",
          "start_time": "2023-08-06T13:48:13.206801Z"
        },
        "id": "e7bb657646ea5225"
      },
      "outputs": [],
      "source": [
        "with torch.inference_mode():\n",
        "    y_preds_new = model_0(X_test)"
      ]
    },
    {
      "cell_type": "code",
      "execution_count": null,
      "id": "27f1eb15f04e153b",
      "metadata": {
        "ExecuteTime": {
          "end_time": "2023-08-06T13:48:13.302749Z",
          "start_time": "2023-08-06T13:48:13.210254Z"
        },
        "colab": {
          "base_uri": "https://localhost:8080/",
          "height": 599
        },
        "id": "27f1eb15f04e153b",
        "outputId": "2751fb15-df0c-42de-a843-7a80b53970af"
      },
      "outputs": [
        {
          "output_type": "display_data",
          "data": {
            "text/plain": [
              "<Figure size 1000x700 with 1 Axes>"
            ],
            "image/png": "[encoded data removed]"
          },
          "metadata": {}
        }
      ],
      "source": [
        "plot_predictions(predictions=y_preds_new)"
      ]
    },
    {
      "cell_type": "code",
      "execution_count": null,
      "id": "db9d5622ed82de03",
      "metadata": {
        "ExecuteTime": {
          "end_time": "2023-08-06T13:48:13.361903Z",
          "start_time": "2023-08-06T13:48:13.300436Z"
        },
        "colab": {
          "base_uri": "https://localhost:8080/",
          "height": 472
        },
        "id": "db9d5622ed82de03",
        "outputId": "18965bc3-df08-4ec2-cdb6-3e2b994cdbe1"
      },
      "outputs": [
        {
          "output_type": "display_data",
          "data": {
            "text/plain": [
              "<Figure size 640x480 with 1 Axes>"
            ],
            "image/png": "[encoded data removed]"
          },
          "metadata": {}
        }
      ],
      "source": [
        "plt.plot(epoch_count, np.array(torch.tensor(loss_values).cpu().numpy()), label=\"Train Loss\")\n",
        "plt.plot(epoch_count, test_loss_values, label=\"Test Loss\")\n",
        "plt.title(\"Training and Test Loss Curves\")\n",
        "plt.ylabel(\"Loss\")\n",
        "plt.xlabel(\"Epochs\")\n",
        "plt.show();"
      ]
    },
    {
      "cell_type": "markdown",
      "id": "3ffd00687a6ac8e4",
      "metadata": {
        "collapsed": false,
        "id": "3ffd00687a6ac8e4"
      },
      "source": []
    },
    {
      "cell_type": "markdown",
      "id": "75aa8470f8162725",
      "metadata": {
        "collapsed": false,
        "id": "75aa8470f8162725"
      },
      "source": [
        "## 5. Saving Model"
      ]
    },
    {
      "cell_type": "code",
      "execution_count": null,
      "id": "a5725ee4b1ceb2c5",
      "metadata": {
        "ExecuteTime": {
          "end_time": "2023-08-06T13:50:00.843746Z",
          "start_time": "2023-08-06T13:50:00.816311Z"
        },
        "colab": {
          "base_uri": "https://localhost:8080/"
        },
        "id": "a5725ee4b1ceb2c5",
        "outputId": "552850b3-cd63-49ed-cd06-6643e004239b"
      },
      "outputs": [
        {
          "output_type": "execute_result",
          "data": {
            "text/plain": [
              "OrderedDict([('weights', tensor([0.6990])), ('bias', tensor([0.3093]))])"
            ]
          },
          "metadata": {},
          "execution_count": 19
        }
      ],
      "source": [
        "model_0.state_dict()"
      ]
    },
    {
      "cell_type": "code",
      "execution_count": null,
      "id": "92e4eed98043281d",
      "metadata": {
        "ExecuteTime": {
          "end_time": "2023-08-06T13:58:26.484406Z",
          "start_time": "2023-08-06T13:58:26.465751Z"
        },
        "id": "92e4eed98043281d"
      },
      "outputs": [],
      "source": [
        "MODEL_PATH = Path(\"models\")\n",
        "MODEL_PATH.mkdir(parents=True, exist_ok=True)\n",
        "MODEL_NAME = \"01_pt_workflow_model_0.pth\"\n",
        "MODEL_SAVE_PATH = MODEL_PATH / MODEL_NAME\n",
        "\n",
        "torch.save(obj=model_0.state_dict(), f=MODEL_SAVE_PATH)"
      ]
    },
    {
      "cell_type": "code",
      "execution_count": null,
      "id": "30ee7b12c9ec5ed1",
      "metadata": {
        "ExecuteTime": {
          "end_time": "2023-08-06T14:01:44.097041Z",
          "start_time": "2023-08-06T14:01:44.078329Z"
        },
        "colab": {
          "base_uri": "https://localhost:8080/"
        },
        "id": "30ee7b12c9ec5ed1",
        "outputId": "897e91b7-9341-4533-c080-4168345ced51"
      },
      "outputs": [
        {
          "output_type": "execute_result",
          "data": {
            "text/plain": [
              "OrderedDict([('weights', tensor([0.3367])), ('bias', tensor([0.1288]))])"
            ]
          },
          "metadata": {},
          "execution_count": 21
        }
      ],
      "source": [
        "loaded_model_0 = LinearRegressionModel()\n",
        "loaded_model_0.state_dict()"
      ]
    },
    {
      "cell_type": "code",
      "execution_count": null,
      "id": "30e67ba7c51c44cd",
      "metadata": {
        "ExecuteTime": {
          "end_time": "2023-08-06T14:02:17.399521Z",
          "start_time": "2023-08-06T14:02:17.369088Z"
        },
        "colab": {
          "base_uri": "https://localhost:8080/"
        },
        "id": "30e67ba7c51c44cd",
        "outputId": "0b1a7240-bc90-4ba6-f7df-4bb6c1e6fc87"
      },
      "outputs": [
        {
          "output_type": "execute_result",
          "data": {
            "text/plain": [
              "<All keys matched successfully>"
            ]
          },
          "metadata": {},
          "execution_count": 22
        }
      ],
      "source": [
        "loaded_model_0.load_state_dict(torch.load(f=MODEL_SAVE_PATH))"
      ]
    },
    {
      "cell_type": "code",
      "execution_count": null,
      "id": "f6a12fc55b517d3e",
      "metadata": {
        "ExecuteTime": {
          "end_time": "2023-08-06T14:02:25.996987Z",
          "start_time": "2023-08-06T14:02:25.970293Z"
        },
        "colab": {
          "base_uri": "https://localhost:8080/"
        },
        "id": "f6a12fc55b517d3e",
        "outputId": "7a1fcf55-fd1a-4584-f0e2-f2e28ed96fc1"
      },
      "outputs": [
        {
          "output_type": "execute_result",
          "data": {
            "text/plain": [
              "OrderedDict([('weights', tensor([0.6990])), ('bias', tensor([0.3093]))])"
            ]
          },
          "metadata": {},
          "execution_count": 23
        }
      ],
      "source": [
        "loaded_model_0.state_dict()"
      ]
    }
  ],
  "metadata": {
    "kernelspec": {
      "display_name": "Python 3",
      "language": "python",
      "name": "python3"
    },
    "language_info": {
      "codemirror_mode": {
        "name": "ipython",
        "version": 3
      },
      "file_extension": ".py",
      "mimetype": "text/x-python",
      "name": "python",
      "nbconvert_exporter": "python",
      "pygments_lexer": "ipython3",
      "version": "3.11.5"
    },
    "colab": {
      "provenance": [],
      "include_colab_link": true
    }
  },
  "nbformat": 4,
  "nbformat_minor": 5
}